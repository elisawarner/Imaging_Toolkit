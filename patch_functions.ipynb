{
 "cells": [
  {
   "cell_type": "code",
   "execution_count": 1,
   "metadata": {},
   "outputs": [],
   "source": [
    "import openslide\n",
    "from openslide import deepzoom"
   ]
  },
  {
   "cell_type": "code",
   "execution_count": 2,
   "metadata": {},
   "outputs": [],
   "source": [
    "def extract_patches(osr_obj, tile_size):\n",
    "    \"\"\"Description: Uses openslide to extract patches at closest zoom size\n",
    "    INPUT: an openslide object (the .svs image)\n",
    "    OUTPUT: a list of tiles as image objects\n",
    "    \"\"\"\n",
    "    list_of_tiles = []\n",
    "    \n",
    "    t = openslide.deepzoom.DeepZoomGenerator(osr_obj, tile_size=tile_size, overlap=0, limit_bounds=False)\n",
    "    max_level = t.level_count\n",
    "    \n",
    "    addresses = t.level_tiles[max_level-1] # zoomed in to furthest amount\n",
    "    \n",
    "    for x_coord in range(addresses[0]):\n",
    "        for y_coord in range(addresses[1]):\n",
    "            list_of_tiles.append(t.get_tile(max_level - 1, (x_coord, y_coord)))\n",
    "    \n",
    "    return list_of_tiles"
   ]
  },
  {
   "cell_type": "code",
   "execution_count": 2,
   "metadata": {},
   "outputs": [],
   "source": [
    "def check_if_white(pixel):\n",
    "    \"\"\"DESCRIPTION: Checks to see if a given pixel is an off-white or white pixel\n",
    "    INPUT: 3x1 tuple, where each element is in range [0,255]\n",
    "    OUTPUT: 1 : is a whitespace\n",
    "            0 : is not a whitespace\n",
    "    \"\"\"\n",
    "    for x in pixel:\n",
    "        if x < 230:\n",
    "            return 0\n",
    "    return 1"
   ]
  },
  {
   "cell_type": "code",
   "execution_count": 2,
   "metadata": {},
   "outputs": [],
   "source": [
    "def determine_quality(img, WHITESPACE_CUTOFF):\n",
    "    \"\"\"Description: Determines quality of a histology tile image\n",
    "    INPUT: Tile (Image object)\n",
    "    OUTPUT: 0 : too much whitespace\n",
    "            1 : acceptable image\n",
    "    \n",
    "    \"\"\"\n",
    "    p = img.load()\n",
    "    img_size = img.size\n",
    "    \n",
    "    total = 0\n",
    "    \n",
    "    for y in range(img_size[1]):\n",
    "        for x in range(0,img_size[0],3):\n",
    "            if check_if_white(p[x,y]):\n",
    "                total += 1\n",
    "\n",
    "    if total / (img_size[0] * img_size[1] / 3) > WHITESPACE_CUTOFF:\n",
    "        return 0 # too much whitespace\n",
    "    else:\n",
    "        return 1 # acceptable"
   ]
  },
  {
   "cell_type": "code",
   "execution_count": 4,
   "metadata": {},
   "outputs": [],
   "source": [
    "def pad(i, n):\n",
    "    \"\"\" PADS AN INTEGER\n",
    "    INPUT: i : [int] number to be padded\n",
    "           n : [int] total length of padded number\n",
    "    OUTPUT: str\n",
    "    \"\"\"\n",
    "    i = str(i)\n",
    "    l = len(i)\n",
    "    \n",
    "    if l > n:\n",
    "        raise ValueError('Integer is bigger than padding specifications')\n",
    "    else:\n",
    "        return ('0' * (n-l)) + i"
   ]
  },
  {
   "cell_type": "code",
   "execution_count": null,
   "metadata": {},
   "outputs": [],
   "source": []
  }
 ],
 "metadata": {
  "kernelspec": {
   "display_name": "Python 3",
   "language": "python",
   "name": "python3"
  },
  "language_info": {
   "codemirror_mode": {
    "name": "ipython",
    "version": 3
   },
   "file_extension": ".py",
   "mimetype": "text/x-python",
   "name": "python",
   "nbconvert_exporter": "python",
   "pygments_lexer": "ipython3",
   "version": "3.6.9"
  }
 },
 "nbformat": 4,
 "nbformat_minor": 4
}
