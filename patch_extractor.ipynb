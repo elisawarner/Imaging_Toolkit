{
 "cells": [
  {
   "cell_type": "markdown",
   "metadata": {},
   "source": [
    "# Easy Patch Sampling\n",
    "\n",
    "DESCRIPTION: This code extracts patches from a histology slide image  \n",
    "INPUT: a folder of images  \n",
    "OUTPUT:  \n",
    "1) `all_images` : a dictionary of patches by file  \n",
    "2) `OUT_DIR/%s` : a folder full of patches, arranged by original image  \n",
    "\n",
    "Note: Level count is going to tell you how far you can zoom the image. I'm taking the highest amount you can zoom the image, then extracting patches"
   ]
  },
  {
   "cell_type": "code",
   "execution_count": null,
   "metadata": {},
   "outputs": [],
   "source": [
    "import openslide\n",
    "import os\n",
    "import import_ipynb\n",
    "import matplotlib.pyplot as plt\n",
    "from tqdm import tqdm\n",
    "from patch_functions import extract_patches, determine_quality, pad"
   ]
  },
  {
   "cell_type": "markdown",
   "metadata": {},
   "source": [
    "**User-adjusted Hyperparameters:**"
   ]
  },
  {
   "cell_type": "code",
   "execution_count": null,
   "metadata": {},
   "outputs": [],
   "source": [
    "FILETYPE = '.svs' # file extension of histology slides\n",
    "FILE_DIR = '../../../Data/Raw/Histology/HE_IMAGES/' # location of files (all images should be in one folder)\n",
    "OUT_DIR = '../../../Data/Processed/patches5000' # name of output folder\n",
    "TILE_SIZE = 5000 # pixel size of image\n",
    "WHITESPACE_CUTOFF = .85 #0.35 # how much whitespace will you allow: [0, 1]"
   ]
  },
  {
   "cell_type": "markdown",
   "metadata": {},
   "source": [
    "## Save patches to image"
   ]
  },
  {
   "cell_type": "code",
   "execution_count": null,
   "metadata": {},
   "outputs": [],
   "source": [
    "def saveimage(all_images):\n",
    "\n",
    "    # check for OUT_DIR\n",
    "    try:\n",
    "        os.listdir(OUT_DIR)\n",
    "    except:\n",
    "        os.mkdir(OUT_DIR)\n",
    "\n",
    "    for key in all_images:\n",
    "        try:\n",
    "            os.listdir('%s/%s' % (OUT_DIR, key[:-4]))\n",
    "        except:\n",
    "            os.mkdir('%s/%s' % (OUT_DIR, key[:-4]))\n",
    "        i = 0\n",
    "    \n",
    "        for img in all_images[key]:\n",
    "            name = 'patch' + pad(i,len(str(len(all_images[key]))))\n",
    "            img.save('%s/%s/%s.png' % (OUT_DIR, key[:-4], name),'PNG')\n",
    "            i += 1"
   ]
  },
  {
   "cell_type": "markdown",
   "metadata": {},
   "source": [
    "## Run Code"
   ]
  },
  {
   "cell_type": "code",
   "execution_count": null,
   "metadata": {},
   "outputs": [],
   "source": [
    "# extract all histology slides in FILE_DIR\n",
    "files = os.listdir(FILE_DIR)\n",
    "files = [x for x in files if FILETYPE in x]"
   ]
  },
  {
   "cell_type": "code",
   "execution_count": null,
   "metadata": {},
   "outputs": [],
   "source": [
    "# find files that already are processed\n",
    "exists = os.listdir(OUT_DIR)"
   ]
  },
  {
   "cell_type": "code",
   "execution_count": null,
   "metadata": {
    "scrolled": true
   },
   "outputs": [],
   "source": [
    "# extract patches and remove ones with too much whitespace\n",
    "fail = []\n",
    "\n",
    "for file in files:\n",
    "    if file[:-4] in exists:\n",
    "        continue\n",
    "    try:\n",
    "        all_images = {}\n",
    "        m = openslide.OpenSlide('%s/%s' % (FILE_DIR, file))\n",
    "        print(file, '| Image size:', m.dimensions)\n",
    "    \n",
    "        print('* Extracting patches...')\n",
    "        d = extract_patches(m, TILE_SIZE)\n",
    "    \n",
    "        print('* Removing patches with too much whitespace...')\n",
    "    \n",
    "        all_images[file] = []\n",
    "        for img in d:\n",
    "            if determine_quality(img, WHITESPACE_CUTOFF):\n",
    "                all_images[file].append(img)\n",
    "        print(file, ':', len(all_images[file]))\n",
    "        saveimage(all_images)\n",
    "    except:\n",
    "        print('FAILED:',file)\n",
    "        fail.append(file)\n",
    "            "
   ]
  },
  {
   "cell_type": "code",
   "execution_count": null,
   "metadata": {},
   "outputs": [],
   "source": [
    "print('The following files failed to compute:')\n",
    "for filename in fail:\n",
    "    print(filename)"
   ]
  },
  {
   "cell_type": "markdown",
   "metadata": {},
   "source": [
    "## Visualize\n",
    "\n",
    "See first 100 accepted images"
   ]
  },
  {
   "cell_type": "code",
   "execution_count": null,
   "metadata": {},
   "outputs": [],
   "source": [
    "filename = list(all_images)[0]\n",
    "len(all_images[filename])"
   ]
  },
  {
   "cell_type": "code",
   "execution_count": null,
   "metadata": {},
   "outputs": [],
   "source": [
    "fig, axes = plt.subplots(10,10, figsize=(15,15) )\n",
    "tot = 0\n",
    "\n",
    "filename = list(all_images)[0]\n",
    "l = len(all_images[filename])\n",
    "stoploop = False\n",
    "\n",
    "for j in range(10):\n",
    "    if stoploop:\n",
    "        break\n",
    "    \n",
    "    for i in range(10):\n",
    "        axes[i,j].imshow(all_images[filename][tot])\n",
    "        axes[i,j].axis('off')\n",
    "        tot += 1\n",
    "        if tot == l:\n",
    "            stoploop = True\n",
    "            break\n",
    "plt.show()"
   ]
  },
  {
   "cell_type": "code",
   "execution_count": null,
   "metadata": {},
   "outputs": [],
   "source": []
  }
 ],
 "metadata": {
  "kernelspec": {
   "display_name": "Python 3",
   "language": "python",
   "name": "python3"
  },
  "language_info": {
   "codemirror_mode": {
    "name": "ipython",
    "version": 3
   },
   "file_extension": ".py",
   "mimetype": "text/x-python",
   "name": "python",
   "nbconvert_exporter": "python",
   "pygments_lexer": "ipython3",
   "version": "3.6.10"
  }
 },
 "nbformat": 4,
 "nbformat_minor": 4
}
